{
  "cells": [
    {
      "cell_type": "markdown",
      "metadata": {
        "id": "view-in-github",
        "colab_type": "text"
      },
      "source": [
        "<a href=\"https://colab.research.google.com/github/pratikiiitv/cs302/blob/main/universal_approx.ipynb\" target=\"_parent\"><img src=\"https://colab.research.google.com/assets/colab-badge.svg\" alt=\"Open In Colab\"/></a>"
      ]
    },
    {
      "cell_type": "code",
      "execution_count": 1,
      "metadata": {
        "id": "U_YNcwbNfMPK"
      },
      "outputs": [],
      "source": [
        "from tensorflow import keras\n",
        "from keras.models import Sequential\n",
        "from keras.layers import Dense\n",
        "import numpy as np\n",
        "import matplotlib.pyplot as plt"
      ]
    },
    {
      "cell_type": "code",
      "execution_count": 2,
      "metadata": {
        "id": "SqgIdOJ4fYec"
      },
      "outputs": [],
      "source": [
        "x_train = np.random.rand(1000)*2*3.14 \n",
        "y_train = 1+np.sin(x_train)"
      ]
    },
    {
      "cell_type": "code",
      "execution_count": 3,
      "metadata": {
        "id": "QE5hwwyxf25s"
      },
      "outputs": [],
      "source": [
        "x_train = x_train.reshape(len(x_train),1)\n",
        "y_train = y_train.reshape(len(y_train),1)"
      ]
    },
    {
      "cell_type": "code",
      "execution_count": 4,
      "metadata": {
        "id": "ig29umkpgZeb"
      },
      "outputs": [],
      "source": [
        "model = Sequential()\n",
        "model.add(Dense(2, input_dim=1, activation='relu', kernel_initializer='he_uniform'))\n",
        "model.add(Dense(4, activation='relu', kernel_initializer='he_uniform'))\n",
        "model.add(Dense(8, activation='tanh', kernel_initializer='he_uniform'))\n",
        "model.add(Dense(16, activation='relu', kernel_initializer='he_uniform'))\n",
        "model.add(Dense(8, activation='tanh', kernel_initializer='he_uniform'))\n",
        "model.add(Dense(4, activation='tanh', kernel_initializer='he_uniform'))\n",
        "model.add(Dense(2, activation='tanh', kernel_initializer='he_uniform'))\n",
        "model.add(Dense(1))"
      ]
    },
    {
      "cell_type": "code",
      "execution_count": 5,
      "metadata": {
        "colab": {
          "base_uri": "https://localhost:8080/"
        },
        "id": "ZLkYa-cSjwH0",
        "outputId": "30cbd678-6224-4a1d-a4f2-0aa1f4cb1f57"
      },
      "outputs": [
        {
          "output_type": "stream",
          "name": "stdout",
          "text": [
            "Model: \"sequential\"\n",
            "_________________________________________________________________\n",
            " Layer (type)                Output Shape              Param #   \n",
            "=================================================================\n",
            " dense (Dense)               (None, 2)                 4         \n",
            "                                                                 \n",
            " dense_1 (Dense)             (None, 4)                 12        \n",
            "                                                                 \n",
            " dense_2 (Dense)             (None, 8)                 40        \n",
            "                                                                 \n",
            " dense_3 (Dense)             (None, 16)                144       \n",
            "                                                                 \n",
            " dense_4 (Dense)             (None, 8)                 136       \n",
            "                                                                 \n",
            " dense_5 (Dense)             (None, 4)                 36        \n",
            "                                                                 \n",
            " dense_6 (Dense)             (None, 2)                 10        \n",
            "                                                                 \n",
            " dense_7 (Dense)             (None, 1)                 3         \n",
            "                                                                 \n",
            "=================================================================\n",
            "Total params: 385\n",
            "Trainable params: 385\n",
            "Non-trainable params: 0\n",
            "_________________________________________________________________\n"
          ]
        }
      ],
      "source": [
        "#opt = keras.optimizers.Adam(learning_rate=0.01)\n",
        "model.compile(loss='mse', optimizer='adam')\n",
        "model.summary()"
      ]
    },
    {
      "cell_type": "code",
      "execution_count": 6,
      "metadata": {
        "colab": {
          "base_uri": "https://localhost:8080/"
        },
        "id": "IAubqFu8kd60",
        "outputId": "bc952d9f-620f-40da-ba9b-005f02aae961"
      },
      "outputs": [
        {
          "output_type": "stream",
          "name": "stdout",
          "text": [
            "Epoch 1/50\n",
            "4/4 [==============================] - 1s 62ms/step - loss: 2.4791 - val_loss: 2.3760\n",
            "Epoch 2/50\n",
            "4/4 [==============================] - 0s 10ms/step - loss: 2.3120 - val_loss: 2.2015\n",
            "Epoch 3/50\n",
            "4/4 [==============================] - 0s 9ms/step - loss: 2.1383 - val_loss: 2.0055\n",
            "Epoch 4/50\n",
            "4/4 [==============================] - 0s 10ms/step - loss: 1.9393 - val_loss: 1.7753\n",
            "Epoch 5/50\n",
            "4/4 [==============================] - 0s 12ms/step - loss: 1.6985 - val_loss: 1.5095\n",
            "Epoch 6/50\n",
            "4/4 [==============================] - 0s 10ms/step - loss: 1.4283 - val_loss: 1.2360\n",
            "Epoch 7/50\n",
            "4/4 [==============================] - 0s 9ms/step - loss: 1.1696 - val_loss: 1.0108\n",
            "Epoch 8/50\n",
            "4/4 [==============================] - 0s 9ms/step - loss: 0.9682 - val_loss: 0.8625\n",
            "Epoch 9/50\n",
            "4/4 [==============================] - 0s 10ms/step - loss: 0.8442 - val_loss: 0.7743\n",
            "Epoch 10/50\n",
            "4/4 [==============================] - 0s 9ms/step - loss: 0.7723 - val_loss: 0.7223\n",
            "Epoch 11/50\n",
            "4/4 [==============================] - 0s 10ms/step - loss: 0.7291 - val_loss: 0.6886\n",
            "Epoch 12/50\n",
            "4/4 [==============================] - 0s 10ms/step - loss: 0.7007 - val_loss: 0.6634\n",
            "Epoch 13/50\n",
            "4/4 [==============================] - 0s 9ms/step - loss: 0.6779 - val_loss: 0.6430\n",
            "Epoch 14/50\n",
            "4/4 [==============================] - 0s 10ms/step - loss: 0.6601 - val_loss: 0.6250\n",
            "Epoch 15/50\n",
            "4/4 [==============================] - 0s 16ms/step - loss: 0.6433 - val_loss: 0.6082\n",
            "Epoch 16/50\n",
            "4/4 [==============================] - 0s 9ms/step - loss: 0.6278 - val_loss: 0.5917\n",
            "Epoch 17/50\n",
            "4/4 [==============================] - 0s 11ms/step - loss: 0.6130 - val_loss: 0.5758\n",
            "Epoch 18/50\n",
            "4/4 [==============================] - 0s 10ms/step - loss: 0.5983 - val_loss: 0.5610\n",
            "Epoch 19/50\n",
            "4/4 [==============================] - 0s 11ms/step - loss: 0.5857 - val_loss: 0.5478\n",
            "Epoch 20/50\n",
            "4/4 [==============================] - 0s 10ms/step - loss: 0.5741 - val_loss: 0.5361\n",
            "Epoch 21/50\n",
            "4/4 [==============================] - 0s 10ms/step - loss: 0.5635 - val_loss: 0.5253\n",
            "Epoch 22/50\n",
            "4/4 [==============================] - 0s 10ms/step - loss: 0.5542 - val_loss: 0.5154\n",
            "Epoch 23/50\n",
            "4/4 [==============================] - 0s 10ms/step - loss: 0.5451 - val_loss: 0.5062\n",
            "Epoch 24/50\n",
            "4/4 [==============================] - 0s 16ms/step - loss: 0.5368 - val_loss: 0.4978\n",
            "Epoch 25/50\n",
            "4/4 [==============================] - 0s 10ms/step - loss: 0.5288 - val_loss: 0.4901\n",
            "Epoch 26/50\n",
            "4/4 [==============================] - 0s 11ms/step - loss: 0.5215 - val_loss: 0.4825\n",
            "Epoch 27/50\n",
            "4/4 [==============================] - 0s 14ms/step - loss: 0.5143 - val_loss: 0.4748\n",
            "Epoch 28/50\n",
            "4/4 [==============================] - 0s 12ms/step - loss: 0.5071 - val_loss: 0.4672\n",
            "Epoch 29/50\n",
            "4/4 [==============================] - 0s 10ms/step - loss: 0.4998 - val_loss: 0.4599\n",
            "Epoch 30/50\n",
            "4/4 [==============================] - 0s 10ms/step - loss: 0.4929 - val_loss: 0.4522\n",
            "Epoch 31/50\n",
            "4/4 [==============================] - 0s 10ms/step - loss: 0.4856 - val_loss: 0.4449\n",
            "Epoch 32/50\n",
            "4/4 [==============================] - 0s 10ms/step - loss: 0.4785 - val_loss: 0.4377\n",
            "Epoch 33/50\n",
            "4/4 [==============================] - 0s 9ms/step - loss: 0.4713 - val_loss: 0.4304\n",
            "Epoch 34/50\n",
            "4/4 [==============================] - 0s 10ms/step - loss: 0.4641 - val_loss: 0.4230\n",
            "Epoch 35/50\n",
            "4/4 [==============================] - 0s 11ms/step - loss: 0.4569 - val_loss: 0.4157\n",
            "Epoch 36/50\n",
            "4/4 [==============================] - 0s 9ms/step - loss: 0.4494 - val_loss: 0.4085\n",
            "Epoch 37/50\n",
            "4/4 [==============================] - 0s 9ms/step - loss: 0.4418 - val_loss: 0.4013\n",
            "Epoch 38/50\n",
            "4/4 [==============================] - 0s 10ms/step - loss: 0.4341 - val_loss: 0.3934\n",
            "Epoch 39/50\n",
            "4/4 [==============================] - 0s 10ms/step - loss: 0.4261 - val_loss: 0.3850\n",
            "Epoch 40/50\n",
            "4/4 [==============================] - 0s 11ms/step - loss: 0.4177 - val_loss: 0.3766\n",
            "Epoch 41/50\n",
            "4/4 [==============================] - 0s 12ms/step - loss: 0.4093 - val_loss: 0.3681\n",
            "Epoch 42/50\n",
            "4/4 [==============================] - 0s 12ms/step - loss: 0.4007 - val_loss: 0.3593\n",
            "Epoch 43/50\n",
            "4/4 [==============================] - 0s 9ms/step - loss: 0.3917 - val_loss: 0.3505\n",
            "Epoch 44/50\n",
            "4/4 [==============================] - 0s 11ms/step - loss: 0.3828 - val_loss: 0.3417\n",
            "Epoch 45/50\n",
            "4/4 [==============================] - 0s 10ms/step - loss: 0.3734 - val_loss: 0.3329\n",
            "Epoch 46/50\n",
            "4/4 [==============================] - 0s 10ms/step - loss: 0.3639 - val_loss: 0.3241\n",
            "Epoch 47/50\n",
            "4/4 [==============================] - 0s 12ms/step - loss: 0.3546 - val_loss: 0.3150\n",
            "Epoch 48/50\n",
            "4/4 [==============================] - 0s 12ms/step - loss: 0.3451 - val_loss: 0.3056\n",
            "Epoch 49/50\n",
            "4/4 [==============================] - 0s 10ms/step - loss: 0.3354 - val_loss: 0.2962\n",
            "Epoch 50/50\n",
            "4/4 [==============================] - 0s 10ms/step - loss: 0.3255 - val_loss: 0.2870\n"
          ]
        },
        {
          "output_type": "execute_result",
          "data": {
            "text/plain": [
              "<keras.callbacks.History at 0x7fc6c2016290>"
            ]
          },
          "metadata": {},
          "execution_count": 6
        }
      ],
      "source": [
        "model.fit(x_train, y_train, epochs=50, batch_size=256, validation_split=0.2, verbose=1)"
      ]
    },
    {
      "cell_type": "code",
      "execution_count": 7,
      "metadata": {
        "id": "lDTH65ezlPE1"
      },
      "outputs": [],
      "source": [
        "yhat = model.predict(x_train)"
      ]
    },
    {
      "cell_type": "code",
      "execution_count": 8,
      "metadata": {
        "colab": {
          "base_uri": "https://localhost:8080/",
          "height": 283
        },
        "id": "9ZhyDJEulnSm",
        "outputId": "d1b9bdf6-807c-4832-8799-bf1e2176d323"
      },
      "outputs": [
        {
          "output_type": "execute_result",
          "data": {
            "text/plain": [
              "<matplotlib.collections.PathCollection at 0x7fc6c06d1b50>"
            ]
          },
          "metadata": {},
          "execution_count": 8
        },
        {
          "output_type": "display_data",
          "data": {
            "image/png": "[encoded data removed]",
            "text/plain": [
              "<Figure size 432x288 with 1 Axes>"
            ]
          },
          "metadata": {
            "needs_background": "light"
          }
        }
      ],
      "source": [
        "plt.scatter(x_train, y_train,  label='Actual')\n",
        "plt.scatter(x_train, yhat, label='Predicted')"
      ]
    },
    {
      "cell_type": "code",
      "execution_count": 9,
      "metadata": {
        "id": "9_JV8DNYlxlG"
      },
      "outputs": [],
      "source": [
        "x = list(x_train)"
      ]
    },
    {
      "cell_type": "code",
      "execution_count": 9,
      "metadata": {
        "id": "w4ugtkUqvezC"
      },
      "outputs": [],
      "source": [
        ""
      ]
    },
    {
      "cell_type": "code",
      "execution_count": 9,
      "metadata": {
        "id": "XrHEQrfZve5i"
      },
      "outputs": [],
      "source": [
        ""
      ]
    },
    {
      "cell_type": "code",
      "execution_count": 10,
      "metadata": {
        "colab": {
          "base_uri": "https://localhost:8080/",
          "height": 265
        },
        "id": "it_w6_f57WCw",
        "outputId": "69a83cd9-b3b4-4612-b9fc-abcf6c7572c4"
      },
      "outputs": [
        {
          "output_type": "display_data",
          "data": {
            "image/png": "[encoded data removed]",
            "text/plain": [
              "<Figure size 432x288 with 1 Axes>"
            ]
          },
          "metadata": {
            "needs_background": "light"
          }
        }
      ],
      "source": [
        "# Weiestrass continuous everywhere and differentiable nowhere function\n",
        "# Credit: This function is implemented by Maria Efimova (found at \"https://medium.com/@Melearning/weierstrass-function-in-python-6b1e6819df3a\") \n",
        "\n",
        "Var = 1000\n",
        "start=0\n",
        "stop=1\n",
        "x_train_weis = np.arange(start,stop,((stop-start)/Var))\n",
        "\n",
        "a=1/2\n",
        "b=3\n",
        "def weierstrass(x,Ncoff):\n",
        "    we=np.zeros(Var)\n",
        "    for n in range(0,Ncoff):\n",
        "        we=we+np.cos(b**n*np.pi*(4*x-2))*(a**n)\n",
        "    return we\n",
        "\n",
        "Ncoff=500\n",
        "y_train_weis=(weierstrass(x_train_weis, Ncoff)+2)/4\n",
        "plt.plot(x_train_weis,y_train_weis)\n",
        "plt.show()\n"
      ]
    },
    {
      "cell_type": "code",
      "execution_count": 11,
      "metadata": {
        "id": "FAJD7pRgAJ8n"
      },
      "outputs": [],
      "source": [
        "model_weis = Sequential()\n",
        "model_weis.add(Dense(16, input_dim=1, activation='relu', kernel_initializer='he_uniform'))\n",
        "model_weis.add(Dense(8, activation='relu', kernel_initializer='he_uniform'))\n",
        "model_weis.add(Dense(4, activation='relu', kernel_initializer='he_uniform'))\n",
        "model_weis.add(Dense(2, activation='sigmoid', kernel_initializer='he_uniform'))\n",
        "model_weis.add(Dense(1))"
      ]
    },
    {
      "cell_type": "code",
      "execution_count": 12,
      "metadata": {
        "colab": {
          "base_uri": "https://localhost:8080/"
        },
        "id": "OAUYVOOsANTk",
        "outputId": "e05f4c54-280c-419a-cdaf-04cc5f9cbbdc"
      },
      "outputs": [
        {
          "output_type": "stream",
          "name": "stdout",
          "text": [
            "Model: \"sequential_1\"\n",
            "_________________________________________________________________\n",
            " Layer (type)                Output Shape              Param #   \n",
            "=================================================================\n",
            " dense_8 (Dense)             (None, 16)                32        \n",
            "                                                                 \n",
            " dense_9 (Dense)             (None, 8)                 136       \n",
            "                                                                 \n",
            " dense_10 (Dense)            (None, 4)                 36        \n",
            "                                                                 \n",
            " dense_11 (Dense)            (None, 2)                 10        \n",
            "                                                                 \n",
            " dense_12 (Dense)            (None, 1)                 3         \n",
            "                                                                 \n",
            "=================================================================\n",
            "Total params: 217\n",
            "Trainable params: 217\n",
            "Non-trainable params: 0\n",
            "_________________________________________________________________\n"
          ]
        }
      ],
      "source": [
        "model_weis.compile(loss='mse', optimizer='adam')\n",
        "model_weis.summary()"
      ]
    },
    {
      "cell_type": "code",
      "execution_count": 13,
      "metadata": {
        "colab": {
          "base_uri": "https://localhost:8080/"
        },
        "id": "gzJYxiSd9Y1Q",
        "outputId": "b64f15ae-be23-4f1b-828e-7056ae819d93"
      },
      "outputs": [
        {
          "output_type": "execute_result",
          "data": {
            "text/plain": [
              "<keras.callbacks.History at 0x7fc6c19114d0>"
            ]
          },
          "metadata": {},
          "execution_count": 13
        }
      ],
      "source": [
        "model_weis.fit(x_train_weis, y_train_weis, epochs=10000, batch_size=100, verbose=0)"
      ]
    },
    {
      "cell_type": "code",
      "execution_count": 14,
      "metadata": {
        "id": "kOpl9Cin9kU1"
      },
      "outputs": [],
      "source": [
        "yhat_weis = model_weis.predict(x_train_weis)"
      ]
    },
    {
      "cell_type": "code",
      "execution_count": 15,
      "metadata": {
        "colab": {
          "base_uri": "https://localhost:8080/",
          "height": 283
        },
        "id": "qBsgSNgq9spu",
        "outputId": "b60c39b5-01f2-45af-8cef-3be98d41958a"
      },
      "outputs": [
        {
          "output_type": "execute_result",
          "data": {
            "text/plain": [
              "<matplotlib.collections.PathCollection at 0x7fc6bdf0dc90>"
            ]
          },
          "metadata": {},
          "execution_count": 15
        },
        {
          "output_type": "display_data",
          "data": {
            "image/png": "[encoded data removed]",
            "text/plain": [
              "<Figure size 432x288 with 1 Axes>"
            ]
          },
          "metadata": {
            "needs_background": "light"
          }
        }
      ],
      "source": [
        "plt.scatter(x_train_weis, y_train_weis,  label='Actual')\n",
        "plt.scatter(x_train_weis,yhat_weis, label='Predicted')"
      ]
    },
    {
      "cell_type": "code",
      "execution_count": 15,
      "metadata": {
        "id": "YfBRPP6Nvc4X"
      },
      "outputs": [],
      "source": [
        ""
      ]
    },
    {
      "cell_type": "code",
      "execution_count": 15,
      "metadata": {
        "id": "cKYsAlSEvdBD"
      },
      "outputs": [],
      "source": [
        ""
      ]
    },
    {
      "cell_type": "code",
      "execution_count": 16,
      "metadata": {
        "colab": {
          "base_uri": "https://localhost:8080/",
          "height": 265
        },
        "id": "S7Lza6lifj7N",
        "outputId": "de47b645-4a4d-4e75-9068-52cb660b900d"
      },
      "outputs": [
        {
          "output_type": "display_data",
          "data": {
            "image/png": "[encoded data removed]",
            "text/plain": [
              "<Figure size 432x288 with 1 Axes>"
            ]
          },
          "metadata": {
            "needs_background": "light"
          }
        }
      ],
      "source": [
        "# Piece wice linear function\n",
        "x_train_pl = np.linspace(0, 1, 1000)\n",
        "\n",
        "y=[]\n",
        "for i in x_train_pl:\n",
        "    if i<0.1:\n",
        "        y.append(2*i)\n",
        "    elif i>0.1 and i<=0.2:\n",
        "        y.append(4*(i-0.1)+0.2)\n",
        "    elif i>0.2 and i<=0.3:\n",
        "        y.append(6*(i-0.2)+0.6)\n",
        "    elif i>0.3 and i<=0.4:\n",
        "        y.append(3*(i-0.3)+1.2)\n",
        "    elif i>0.4 and i<=0.5:\n",
        "        y.append(-5*(i-0.4)+1.5)\n",
        "    elif i>0.5 and i<=0.6:\n",
        "        y.append(-4*(i-0.5)+1.0)\n",
        "    elif i>0.6 and i<=0.7:\n",
        "        y.append(-6*(i-0.6)+0.6)\n",
        "    elif i>0.7 and i<=0.8:\n",
        "        y.append(-2*(i-0.7))\n",
        "    elif i>0.8 and i<=0.9:\n",
        "        y.append(-1*(i-0.8)-0.2)\n",
        "    else:\n",
        "        y.append(-0.1*(i-0.9)-0.3)\n",
        "\n",
        "y_train_pl=(y-np.min(y))/(np.max(y)-np.min(y))\n",
        "plt.plot(x_train_pl,np.array(y_train_pl))\n",
        "plt.show()\n"
      ]
    },
    {
      "cell_type": "code",
      "execution_count": 17,
      "metadata": {
        "id": "q-mMuNJIf_8B"
      },
      "outputs": [],
      "source": [
        "model_pl = Sequential()\n",
        "model_pl.add(Dense(16, input_dim=1, activation='relu', kernel_initializer='he_uniform'))\n",
        "model_pl.add(Dense(8, activation='relu', kernel_initializer='he_uniform'))\n",
        "model_pl.add(Dense(4, activation='relu', kernel_initializer='he_uniform'))\n",
        "model_pl.add(Dense(2, activation='sigmoid', kernel_initializer='he_uniform'))\n",
        "model_pl.add(Dense(1))"
      ]
    },
    {
      "cell_type": "code",
      "execution_count": 18,
      "metadata": {
        "colab": {
          "base_uri": "https://localhost:8080/"
        },
        "id": "-KnosNSNgDfD",
        "outputId": "5e6bd242-b1c7-4615-f118-bd95d047c5fa"
      },
      "outputs": [
        {
          "output_type": "stream",
          "name": "stdout",
          "text": [
            "Model: \"sequential_2\"\n",
            "_________________________________________________________________\n",
            " Layer (type)                Output Shape              Param #   \n",
            "=================================================================\n",
            " dense_13 (Dense)            (None, 16)                32        \n",
            "                                                                 \n",
            " dense_14 (Dense)            (None, 8)                 136       \n",
            "                                                                 \n",
            " dense_15 (Dense)            (None, 4)                 36        \n",
            "                                                                 \n",
            " dense_16 (Dense)            (None, 2)                 10        \n",
            "                                                                 \n",
            " dense_17 (Dense)            (None, 1)                 3         \n",
            "                                                                 \n",
            "=================================================================\n",
            "Total params: 217\n",
            "Trainable params: 217\n",
            "Non-trainable params: 0\n",
            "_________________________________________________________________\n"
          ]
        }
      ],
      "source": [
        "model_pl.compile(loss='mse', optimizer='adam')\n",
        "model_pl.summary()"
      ]
    },
    {
      "cell_type": "code",
      "execution_count": null,
      "metadata": {
        "id": "KizkfudngR7S"
      },
      "outputs": [],
      "source": [
        "model_pl.fit(x_train_pl, y_train_pl, epochs=1000, batch_size=100, verbose=0)"
      ]
    },
    {
      "cell_type": "code",
      "execution_count": null,
      "metadata": {
        "id": "n-amfTdKgVjz"
      },
      "outputs": [],
      "source": [
        "yhat_pl = model_pl.predict(x_train_pl)"
      ]
    },
    {
      "cell_type": "code",
      "execution_count": null,
      "metadata": {
        "id": "1sxeJEc4gYKa"
      },
      "outputs": [],
      "source": [
        "plt.scatter(x_train_pl, y_train_pl,  label='Actual')\n",
        "plt.scatter(x_train_weis,yhat_pl, label='Predicted',alpha=0.05)"
      ]
    },
    {
      "cell_type": "code",
      "execution_count": null,
      "metadata": {
        "id": "62p3qIOGvaGA"
      },
      "outputs": [],
      "source": [
        ""
      ]
    },
    {
      "cell_type": "code",
      "execution_count": null,
      "metadata": {
        "id": "bffFKP0XvaRR"
      },
      "outputs": [],
      "source": [
        ""
      ]
    },
    {
      "cell_type": "code",
      "execution_count": null,
      "metadata": {
        "id": "EDY_MV6Uil8p"
      },
      "outputs": [],
      "source": [
        "# Classification function\n",
        "\n",
        "x=  np.random.rand(1000)\n",
        "x_train_cls =(x-np.min(x))/(np.max(x)-np.min(x))\n",
        "y=[]\n",
        "for i in x_train_cls:\n",
        "    if i<0.1:\n",
        "        y.append([1,0,0])\n",
        "    elif i>0.1 and i<=0.2:\n",
        "        y.append([0,1,0])\n",
        "    elif i>0.2 and i<=0.3:\n",
        "        y.append([0,0,1])\n",
        "    elif i>0.3 and i<=0.4:\n",
        "        y.append([0,1,0])\n",
        "    elif i>0.4 and i<=0.5:\n",
        "        y.append([0,0,1])\n",
        "    elif i>0.5 and i<=0.6:\n",
        "        y.append([1,0,0])\n",
        "    elif i>0.6 and i<=0.7:\n",
        "        y.append([1,0,0])\n",
        "    elif i>0.7 and i<=0.8:\n",
        "        y.append([0,0,1])\n",
        "    elif i>0.8 and i<=0.9:\n",
        "        y.append([0,1,0])\n",
        "    else:\n",
        "        y.append([1,0,0])\n",
        "y_train_cls=np.array(y)\n"
      ]
    },
    {
      "cell_type": "code",
      "execution_count": null,
      "metadata": {
        "id": "EKxZfvL4jkLR"
      },
      "outputs": [],
      "source": [
        "model_cls = Sequential()\n",
        "model_cls.add(Dense(16, input_dim=1, activation='relu'))\n",
        "model_cls.add(Dense(12, activation='relu'))\n",
        "model_cls.add(Dense(8, activation='relu'))\n",
        "model_cls.add(Dense(6, activation='sigmoid'))\n",
        "model_cls.add(Dense(3, activation='sigmoid'))"
      ]
    },
    {
      "cell_type": "code",
      "execution_count": null,
      "metadata": {
        "id": "-V3OmTRUjtMm"
      },
      "outputs": [],
      "source": [
        "model_cls.compile(loss='mse', optimizer='adam')\n",
        "model_cls.summary()"
      ]
    },
    {
      "cell_type": "code",
      "execution_count": null,
      "metadata": {
        "id": "lNt_f2FOkJe4"
      },
      "outputs": [],
      "source": [
        "model_cls.fit(x_train_cls, y_train_cls, epochs=10000, batch_size=100, verbose=0)"
      ]
    },
    {
      "cell_type": "code",
      "execution_count": null,
      "metadata": {
        "id": "THf8iNl7kTgd"
      },
      "outputs": [],
      "source": [
        "yhat_cls = model_cls.predict(x_train_cls)"
      ]
    },
    {
      "cell_type": "code",
      "execution_count": null,
      "metadata": {
        "id": "XbFxkpXok74y"
      },
      "outputs": [],
      "source": [
        "cls1=x_train_cls[y_train_cls[:,0]==1]\n",
        "plt.scatter(cls1,np.zeros_like(cls1) + 0.98,color='r',  label='Actual')\n",
        "cls2=x_train_cls[y_train_cls[:,1]==1]\n",
        "plt.scatter(cls2,np.zeros_like(cls2) + 0.98,color='g',  label='Actual')\n",
        "cls3=x_train_cls[y_train_cls[:,2]==1]\n",
        "plt.scatter(cls3,np.zeros_like(cls3) + 0.98,color='b',  label='Actual')\n",
        "\n",
        "cls=[[]]*3\n",
        "for i,yi in enumerate(yhat_cls):\n",
        "  idx=np.argmax(yi)\n",
        "  cls[idx]=cls[idx]+[x_train_cls[i]]\n",
        "cls=np.array(cls)\n",
        "plt.scatter(cls[0],np.zeros_like(cls[0]) + 1.02,color='r',  label='predicted')\n",
        "plt.scatter(cls[1],np.zeros_like(cls[1]) + 1.02,color='g',  label='predicted')\n",
        "plt.scatter(cls[2],np.zeros_like(cls[2]) + 1.02,color='b',  label='predicted')\n",
        "plt.ylim(0.95,1.05)\n",
        "plt.show()\n"
      ]
    },
    {
      "cell_type": "code",
      "execution_count": null,
      "metadata": {
        "colab": {
          "background_save": true
        },
        "id": "q9L__IK-J4o5"
      },
      "outputs": [],
      "source": [
        "model_pl2 = Sequential()\n",
        "model_pl2.add(Dense(16, input_dim=1, activation='relu', kernel_initializer='he_uniform'))\n",
        "model_pl2.add(Dense(8, activation='relu', kernel_initializer='he_uniform'))\n",
        "model_pl2.add(Dense(4, activation='relu', kernel_initializer='he_uniform'))\n",
        "model_pl2.add(Dense(2, activation='sigmoid', kernel_initializer='he_uniform'))\n",
        "model_pl2.add(Dense(1))\n",
        "\n",
        "\n",
        "\n",
        "num_of_exp=500\n",
        "Err=np.zeros(num_of_exp)\n",
        "for tr in range(num_of_exp):\n",
        "    print(tr)\n",
        "    x_train_pl2 = np.random.rand(1000)\n",
        "    y=[]\n",
        "    for i in x_train_pl2:\n",
        "        if i<0.1:\n",
        "            y.append(2*i)\n",
        "        elif i>0.1 and i<=0.2:\n",
        "            y.append(4*(i-0.1)+0.2)\n",
        "        elif i>0.2 and i<=0.3:\n",
        "            y.append(6*(i-0.2)+0.6)\n",
        "        elif i>0.3 and i<=0.4:\n",
        "            y.append(3*(i-0.3)+1.2)\n",
        "        elif i>0.4 and i<=0.5:\n",
        "            y.append(-5*(i-0.4)+1.5)\n",
        "        elif i>0.5 and i<=0.6:\n",
        "            y.append(-4*(i-0.5)+1.0)\n",
        "        elif i>0.6 and i<=0.7:\n",
        "            y.append(-6*(i-0.6)+0.6)\n",
        "        elif i>0.7 and i<=0.8:\n",
        "            y.append(-2*(i-0.7))\n",
        "        elif i>0.8 and i<=0.9:\n",
        "            y.append(-1*(i-0.8)-0.2)\n",
        "        else:\n",
        "            y.append(-0.1*(i-0.9)-0.3)\n",
        "\n",
        "    y_train_pl2=(y-np.min(y))/(np.max(y)-np.min(y))\n",
        "    model_pl2.compile(loss='mse', optimizer='adam')\n",
        "    model_pl2.fit(x_train_pl2, y_train_pl2, epochs=100, batch_size=100, verbose=0)\n",
        "    Err[tr]=model_pl2.evaluate(x_train_pl2,  y_train_pl2)\n",
        "\n",
        "plt.hist(Err)\n",
        "plt.show()"
      ]
    },
    {
      "cell_type": "code",
      "execution_count": null,
      "metadata": {
        "colab": {
          "background_save": true
        },
        "id": "JPQ1tE9nLn4b"
      },
      "outputs": [],
      "source": [
        "plt.hist(Err)\n",
        "plt.show()"
      ]
    }
  ],
  "metadata": {
    "colab": {
      "collapsed_sections": [],
      "name": "20211213_universal_approx.ipynb",
      "provenance": [],
      "include_colab_link": true
    },
    "kernelspec": {
      "display_name": "Python 3 (ipykernel)",
      "language": "python",
      "name": "python3"
    },
    "language_info": {
      "codemirror_mode": {
        "name": "ipython",
        "version": 3
      },
      "file_extension": ".py",
      "mimetype": "text/x-python",
      "name": "python",
      "nbconvert_exporter": "python",
      "pygments_lexer": "ipython3",
      "version": "3.8.12"
    }
  },
  "nbformat": 4,
  "nbformat_minor": 0
}